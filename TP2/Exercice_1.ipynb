{
 "cells": [
  {
   "cell_type": "code",
   "execution_count": 80,
   "id": "5bec0024",
   "metadata": {},
   "outputs": [
    {
     "name": "stdout",
     "output_type": "stream",
     "text": [
      "[[ 8 15 13  8  6 11  2 11  8  7  2  1 15 11  5 15 15 15 10  4 12  4  5  7\n",
      "   3  6  4 10 11  3  7  6 10  1 10 12 15  3  5  8  4 14  6 15  3  9 15  2\n",
      "   0  4 14 12  2  4 10 15 15  1  7 15 14  8  2 13 10 15  9 13  8  7  1  6\n",
      "   8 10  5  9  9  9 14 12 10 14  3  0 11  0 10  2  8 12 14 10  8  2 12  9\n",
      "   6  5  6  6]]\n"
     ]
    }
   ],
   "source": [
    "# 1\n",
    "import numpy as np\n",
    "\n",
    "np.random.seed(2)\n",
    "a1=np.random.randint(16, size=(1, 100))\n",
    "print(a1)"
   ]
  },
  {
   "cell_type": "code",
   "execution_count": 81,
   "id": "cfdd8e20",
   "metadata": {},
   "outputs": [
    {
     "name": "stdout",
     "output_type": "stream",
     "text": [
      "moyenne tableau : 8.21\n",
      "max tableau : 15\n",
      "min tableau : 0\n",
      "ecart type tableau 4.477264790025267\n"
     ]
    }
   ],
   "source": [
    "# 2\n",
    "print('moyenne tableau a1 :',np.average(a1))\n",
    "print('max tableau a1 :', np.max(a1))\n",
    "print('min tableau a1 :', np.min(a1))\n",
    "print('ecart type tableau a1 :', np.std(a1))"
   ]
  },
  {
   "cell_type": "code",
   "execution_count": 85,
   "id": "5e066df4",
   "metadata": {},
   "outputs": [
    {
     "name": "stdout",
     "output_type": "stream",
     "text": [
      "[[ 0.58071202  0.69709079  0.47477432 ...  0.41576885  0.55073766\n",
      "  -0.33862641]]\n"
     ]
    }
   ],
   "source": [
    "# 3\n",
    "a2=np.random.uniform(-1, 1, size=(1,10000))\n",
    "print(a2)"
   ]
  },
  {
   "cell_type": "code",
   "execution_count": 86,
   "id": "f2728729",
   "metadata": {},
   "outputs": [
    {
     "name": "stdout",
     "output_type": "stream",
     "text": [
      "moyenne tableau : -0.006099458517577024\n",
      "max tableau : 0.9999397021897811\n",
      "min tableau : -0.9990788854947916\n",
      "ecart type tableau 0.579346311171601\n"
     ]
    }
   ],
   "source": [
    "# 4\n",
    "print('moyenne tableau a2 :',np.average(a2))\n",
    "print('max tableau a2 :', np.max(a2))\n",
    "print('min tableau a2 :', np.min(a2))\n",
    "print('ecart type tableau a2 :', np.std(a2))"
   ]
  }
 ],
 "metadata": {
  "kernelspec": {
   "display_name": "Python 3 (ipykernel)",
   "language": "python",
   "name": "python3"
  },
  "language_info": {
   "codemirror_mode": {
    "name": "ipython",
    "version": 3
   },
   "file_extension": ".py",
   "mimetype": "text/x-python",
   "name": "python",
   "nbconvert_exporter": "python",
   "pygments_lexer": "ipython3",
   "version": "3.7.3"
  }
 },
 "nbformat": 4,
 "nbformat_minor": 5
}
