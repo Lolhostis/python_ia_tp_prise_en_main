{
 "cells": [
  {
   "cell_type": "code",
   "execution_count": 57,
   "id": "2b46c2d5",
   "metadata": {},
   "outputs": [
    {
     "name": "stdout",
     "output_type": "stream",
     "text": [
      "matrice a1 :\n",
      " [[8 8 6 2 8 7]\n",
      " [2 1 5 4 4 5]\n",
      " [7 3 6 4 3 7]\n",
      " [6 1 3 5 8 4]\n",
      " [6 3 9 2 0 4]]\n"
     ]
    }
   ],
   "source": [
    "#1\n",
    "import numpy as np\n",
    "\n",
    "np.random.seed(2)\n",
    "a1=np.random.randint(10, size=(5, 6))\n",
    "print('matrice a1 :\\n', a1)"
   ]
  },
  {
   "cell_type": "code",
   "execution_count": 58,
   "id": "4e7e5743",
   "metadata": {},
   "outputs": [
    {
     "name": "stdout",
     "output_type": "stream",
     "text": [
      "[[  8   8   2   2  -6   7]\n",
      " [  2   1  -3   4  -6   5]\n",
      " [  7   3  -2   4 -11   7]\n",
      " [  6   1  -7   5   0   4]\n",
      " [  6   3   5   2  -8   4]]\n"
     ]
    }
   ],
   "source": [
    "#2\n",
    "for i in range(2,6,2):\n",
    "    a1[:,i]=a1[:,i]-(a1[:,i+1]*2)\n",
    "print(a1)"
   ]
  },
  {
   "cell_type": "code",
   "execution_count": 59,
   "id": "4ce4a9d8",
   "metadata": {},
   "outputs": [
    {
     "name": "stdout",
     "output_type": "stream",
     "text": [
      "[[8 8 2 2 0 7]\n",
      " [2 1 0 4 0 5]\n",
      " [7 3 0 4 0 7]\n",
      " [6 1 0 5 0 4]\n",
      " [6 3 5 2 0 4]]\n"
     ]
    }
   ],
   "source": [
    "#3\n",
    "a1[a1<0]=0\n",
    "print(a1)"
   ]
  }
 ],
 "metadata": {
  "kernelspec": {
   "display_name": "Python 3 (ipykernel)",
   "language": "python",
   "name": "python3"
  },
  "language_info": {
   "codemirror_mode": {
    "name": "ipython",
    "version": 3
   },
   "file_extension": ".py",
   "mimetype": "text/x-python",
   "name": "python",
   "nbconvert_exporter": "python",
   "pygments_lexer": "ipython3",
   "version": "3.7.3"
  }
 },
 "nbformat": 4,
 "nbformat_minor": 5
}
