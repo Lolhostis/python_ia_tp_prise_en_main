{
 "cells": [
  {
   "cell_type": "code",
   "execution_count": 1,
   "id": "2f3a96bd",
   "metadata": {},
   "outputs": [],
   "source": [
    "import numpy as np\n",
    "import pandas as pd\n",
    "import matplotlib.pyplot as plt\n",
    "\n",
    "import sklearn as sk\n"
   ]
  },
  {
   "cell_type": "code",
   "execution_count": 15,
   "id": "b7b25c90",
   "metadata": {},
   "outputs": [],
   "source": [
    "from sklearn.linear_model import LinearRegression"
   ]
  },
  {
   "cell_type": "code",
   "execution_count": null,
   "id": "8ffb25e9",
   "metadata": {},
   "outputs": [],
   "source": [
    "x = 10 * rng.rand(50)\n",
    "\n",
    "y=2*x-1 + rng.randn(50)\n",
    "\n",
    "plt.scatter(x, y);"
   ]
  },
  {
   "cell_type": "code",
   "execution_count": 26,
   "id": "772b9144",
   "metadata": {},
   "outputs": [
    {
     "name": "stdout",
     "output_type": "stream",
     "text": [
      "(50, 1)\n"
     ]
    }
   ],
   "source": [
    "X=x[:, np.newaxis]\n",
    "print(X.shape)"
   ]
  },
  {
   "cell_type": "code",
   "execution_count": 28,
   "id": "ea6214ec",
   "metadata": {},
   "outputs": [
    {
     "data": {
      "text/plain": [
       "LinearRegression()"
      ]
     },
     "execution_count": 28,
     "metadata": {},
     "output_type": "execute_result"
    }
   ],
   "source": [
    "model=LinearRegression(fit_intercept=True)\n",
    "model.fit(X, y)"
   ]
  },
  {
   "cell_type": "code",
   "execution_count": 34,
   "id": "41898326",
   "metadata": {},
   "outputs": [],
   "source": [
    "a=model.coef_\n",
    "b=model.intercept_"
   ]
  },
  {
   "cell_type": "code",
   "execution_count": 36,
   "id": "8513096d",
   "metadata": {},
   "outputs": [
    {
     "name": "stdout",
     "output_type": "stream",
     "text": [
      "1.9776566003853107\n",
      "-0.9033107255311146\n"
     ]
    }
   ],
   "source": [
    "print(a[0])\n",
    "print(b)"
   ]
  },
  {
   "cell_type": "code",
   "execution_count": 43,
   "id": "f3f0dff2",
   "metadata": {},
   "outputs": [
    {
     "name": "stdout",
     "output_type": "stream",
     "text": [
      "(1,)\n"
     ]
    }
   ],
   "source": [
    "xnew=np.array([2.50])\n",
    "print(xnew.shape)"
   ]
  },
  {
   "cell_type": "code",
   "execution_count": 45,
   "id": "e7014099",
   "metadata": {},
   "outputs": [
    {
     "name": "stdout",
     "output_type": "stream",
     "text": [
      "[[2.5]]\n"
     ]
    }
   ],
   "source": [
    "print(xnew.reshape(-1,1))"
   ]
  },
  {
   "cell_type": "code",
   "execution_count": 46,
   "id": "6a54bdb3",
   "metadata": {},
   "outputs": [
    {
     "name": "stdout",
     "output_type": "stream",
     "text": [
      "[4.04083078]\n"
     ]
    }
   ],
   "source": [
    "ynew = model.predict(xnew.reshape(-1, 1))\n",
    "print(ynew)"
   ]
  },
  {
   "cell_type": "code",
   "execution_count": 49,
   "id": "8e6f4991",
   "metadata": {},
   "outputs": [
    {
     "name": "stdout",
     "output_type": "stream",
     "text": [
      "<class 'numpy.ndarray'>\n"
     ]
    }
   ],
   "source": [
    "xnew=np.linspace(-1,10,5)\n",
    "xnew=xnew[:, np.newaxis]\n",
    "\n",
    "ynew = model.predict(xnew)\n",
    "print(type(ynew))"
   ]
  },
  {
   "cell_type": "code",
   "execution_count": 50,
   "id": "cfe00520",
   "metadata": {},
   "outputs": [
    {
     "data": {
      "image/png": "[encoded data removed]",
      "text/plain": [
       "<Figure size 432x288 with 1 Axes>"
      ]
     },
     "metadata": {
      "needs_background": "light"
     },
     "output_type": "display_data"
    }
   ],
   "source": [
    "plt.scatter(x, y,color='k');\n",
    "plt.scatter(xnew, np.zeros(xnew.shape[0]),color='b');\n",
    "plt.scatter(xnew, ynew,color='r');"
   ]
  },
  {
   "cell_type": "code",
   "execution_count": 53,
   "id": "d25616cb",
   "metadata": {},
   "outputs": [
    {
     "data": {
      "image/png": "[encoded data removed]",
      "text/plain": [
       "<Figure size 432x288 with 1 Axes>"
      ]
     },
     "metadata": {
      "needs_background": "light"
     },
     "output_type": "display_data"
    }
   ],
   "source": [
    "plt.scatter(x, y,color='k');\n",
    "plt.plot(xnew, ynew,'r');"
   ]
  },
  {
   "cell_type": "code",
   "execution_count": 59,
   "id": "13c62a3d",
   "metadata": {},
   "outputs": [
    {
     "name": "stdout",
     "output_type": "stream",
     "text": [
      "(50, 1)\n",
      "(50,)\n"
     ]
    }
   ],
   "source": [
    "ypred=model.predict(X)\n",
    "print(X.shape)\n",
    "print(ypred.shape)"
   ]
  },
  {
   "cell_type": "code",
   "execution_count": 60,
   "id": "62d8af28",
   "metadata": {},
   "outputs": [
    {
     "name": "stdout",
     "output_type": "stream",
     "text": [
      "0.8230711437486881\n"
     ]
    }
   ],
   "source": [
    "print(np.mean((y-ypred)**2))"
   ]
  },
  {
   "cell_type": "code",
   "execution_count": 68,
   "id": "39ffcef7",
   "metadata": {},
   "outputs": [
    {
     "name": "stdout",
     "output_type": "stream",
     "text": [
      "[ 5.93583638e+00  2.83824303e+00  5.49456831e+00 -1.96585346e+00\n",
      "  1.31598934e+00 -5.74359851e+00  7.54073006e+00 -1.40844756e+00\n",
      "  5.09309083e+00 -1.39936375e-03 -8.18096600e-01  4.19894888e+00\n",
      " -2.03825081e+00 -1.77728190e+01 -3.63535338e+00  1.06018356e+00\n",
      "  1.17923742e+01  1.71951976e+01 -7.42342666e+00 -3.38204637e+00\n",
      "  3.50984292e+00 -2.83976872e+00  5.55363594e+00 -5.88908120e+00\n",
      " -5.53592525e+00  9.32519815e+00  5.64769539e+00 -1.26483261e+01\n",
      " -6.99134236e+00 -9.24679213e+00 -4.79417219e+00  1.18008689e+01\n",
      " -6.12195410e+00  3.68164463e+00  1.57840963e+00 -6.96884632e+00\n",
      " -3.90460586e+00 -4.62376584e-01 -1.28481470e+01 -8.42705210e+00\n",
      " -1.37805178e+01 -7.04579379e+00 -7.28895965e+00  4.03677697e+00\n",
      " -3.57352569e+00  7.18457370e+00 -2.30042136e+00  3.96278601e+00\n",
      " -4.91201266e+00 -1.66601955e+01 -5.84713542e+00  6.94654601e+00\n",
      "  6.21555758e+00 -2.43183068e+00 -5.25894999e-01 -4.21188510e+00\n",
      "  1.61160434e+01  7.63548830e-01  1.68023357e+00  7.22311354e+00\n",
      "  1.43089868e+01  9.54941361e+00 -7.32783666e+00 -7.39960346e+00\n",
      "  9.67204150e+00 -7.06465078e+00  2.11919638e+00 -6.02145602e+00\n",
      "  6.69533829e+00  1.39460584e+01  8.05373166e+00  6.09806692e+00\n",
      " -3.85721967e+00  1.39933488e+00 -1.23665240e+01 -4.33941289e+00\n",
      "  1.29383189e+00  9.16454568e+00  2.11656251e+00  1.18160840e+01\n",
      "  1.48870272e+01 -2.82109854e+00  9.36613400e+00  2.21354741e+00\n",
      "  1.62556584e+01 -4.59619799e+00 -1.68983211e+00 -3.64152619e+00\n",
      " -6.04774199e+00 -4.12844970e+00  1.23478720e+01  1.50949717e+01\n",
      "  1.23184288e+01  1.95280822e-01 -7.71493057e+00  4.92762774e+00\n",
      "  7.58491014e+00  1.55928768e+01  2.98481005e+00  1.40881302e+01]\n"
     ]
    }
   ],
   "source": [
    "# x = np.array(10 * rng.rand(100,2))\n",
    "# print(x)\n",
    "y=2*np.inner(np.array([-1,1]), x)+ 2*rng.randn(x.shape[0])\n",
    "print(y)"
   ]
  },
  {
   "cell_type": "code",
   "execution_count": 69,
   "id": "57fc775d",
   "metadata": {},
   "outputs": [],
   "source": [
    "%matplotlib inline\n",
    "import numpy as np\n",
    "import matplotlib.pyplot as plt\n",
    "\n",
    "from sklearn import datasets"
   ]
  },
  {
   "cell_type": "code",
   "execution_count": 71,
   "id": "27ae0725",
   "metadata": {},
   "outputs": [
    {
     "name": "stdout",
     "output_type": "stream",
     "text": [
      "<class 'sklearn.utils.Bunch'>\n"
     ]
    }
   ],
   "source": [
    "iris=datasets.load_iris()\n",
    "print(type(iris))"
   ]
  },
  {
   "cell_type": "code",
   "execution_count": 76,
   "id": "076903bf",
   "metadata": {},
   "outputs": [
    {
     "name": "stdout",
     "output_type": "stream",
     "text": [
      "<class 'numpy.ndarray'>\n",
      "(150, 4)\n"
     ]
    }
   ],
   "source": [
    "print(type(iris.data))\n",
    "print(iris.data.shape)"
   ]
  },
  {
   "cell_type": "code",
   "execution_count": 87,
   "id": "1c5dbe4c",
   "metadata": {},
   "outputs": [
    {
     "name": "stdout",
     "output_type": "stream",
     "text": [
      "[0 1 2]\n"
     ]
    }
   ],
   "source": [
    "X = iris.data[:, :2]\n",
    "print(np.unique(iris.target))"
   ]
  },
  {
   "cell_type": "code",
   "execution_count": 92,
   "id": "d58d86f7",
   "metadata": {},
   "outputs": [
    {
     "name": "stdout",
     "output_type": "stream",
     "text": [
      "[0 0 0 0 0 0 0 0 0 0 0 0 0 0 0 0 0 0 0 0 0 0 0 0 0 0 0 0 0 0 0 0 0 0 0 0 0\n",
      " 0 0 0 0 0 0 0 0 0 0 0 0 0 1 1 1 1 1 1 1 1 1 1 1 1 1 1 1 1 1 1 1 1 1 1 1 1\n",
      " 1 1 1 1 1 1 1 1 1 1 1 1 1 1 1 1 1 1 1 1 1 1 1 1 1 1 1 1 1 1 1 1 1 1 1 1 1\n",
      " 1 1 1 1 1 1 1 1 1 1 1 1 1 1 1 1 1 1 1 1 1 1 1 1 1 1 1 1 1 1 1 1 1 1 1 1 1\n",
      " 1 1]\n"
     ]
    }
   ],
   "source": [
    "y = (iris.target!=0)*1\n",
    "print(y)"
   ]
  },
  {
   "cell_type": "code",
   "execution_count": 94,
   "id": "dc9597d1",
   "metadata": {},
   "outputs": [
    {
     "name": "stdout",
     "output_type": "stream",
     "text": [
      "(150, 2)\n",
      "[0 1]\n"
     ]
    }
   ],
   "source": [
    "print(X.shape)\n",
    "print(np.unique(y))"
   ]
  },
  {
   "cell_type": "code",
   "execution_count": null,
   "id": "07557dbc",
   "metadata": {},
   "outputs": [],
   "source": [
    "# i ali a i\n",
    "de d\n",
    "e\n",
    "plt.figure(figsi e=(10, 6))\n",
    "plt.scatter(X[y == 0][:, 0], X[y == 0][:, 1], color='b', label='classe 0')\n",
    "plt.scatter(X[y == 1][:, 0], X[y == 1][:, 1], color='r', label='classe 1')\n",
    "plt.legend();"
   ]
  }
 ],
 "metadata": {
  "kernelspec": {
   "display_name": "Python 3 (ipykernel)",
   "language": "python",
   "name": "python3"
  },
  "language_info": {
   "codemirror_mode": {
    "name": "ipython",
    "version": 3
   },
   "file_extension": ".py",
   "mimetype": "text/x-python",
   "name": "python",
   "nbconvert_exporter": "python",
   "pygments_lexer": "ipython3",
   "version": "3.7.3"
  }
 },
 "nbformat": 4,
 "nbformat_minor": 5
}
