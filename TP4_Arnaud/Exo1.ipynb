{
 "cells": [
  {
   "cell_type": "code",
   "execution_count": 88,
   "id": "925d7285",
   "metadata": {},
   "outputs": [],
   "source": [
    "import numpy as np\n",
    "import pandas as pd\n",
    "import matplotlib.pyplot as plt\n",
    "\n",
    "#QUESTION 1\n",
    "df=pd.read_csv(\"./train.csv\", sep=\",\")"
   ]
  },
  {
   "cell_type": "code",
   "execution_count": 4,
   "id": "1fec733c",
   "metadata": {
    "scrolled": true
   },
   "outputs": [
    {
     "name": "stdout",
     "output_type": "stream",
     "text": [
      "Nombre de NaN\n",
      "\n",
      "PassengerId : 0\n",
      "Pclass : 0\n",
      "Name : 0\n",
      "Sex : 0\n",
      "Age : 86\n",
      "SibSp : 0\n",
      "Parch : 0\n",
      "Ticket : 0\n",
      "Fare : 1\n",
      "Cabin : 327\n",
      "Embarked : 0\n"
     ]
    }
   ],
   "source": [
    "#QUESTION 2\n",
    "#METHODE 1\n",
    "print(\"Nombre de NaN\\n\")\n",
    "for i in df.columns:\n",
    "    print(i, \":\",df[i].isnull().sum())"
   ]
  },
  {
   "cell_type": "code",
   "execution_count": 10,
   "id": "594d4716",
   "metadata": {},
   "outputs": [
    {
     "name": "stdout",
     "output_type": "stream",
     "text": [
      "Age       86\n",
      "Fare       1\n",
      "Cabin    327\n",
      "dtype: int64\n"
     ]
    }
   ],
   "source": [
    "#METHODE 2\n",
    "series1 = df.isnull().sum()\n",
    "print(series1[series1!=0])"
   ]
  },
  {
   "cell_type": "code",
   "execution_count": 10,
   "id": "678f2d4d",
   "metadata": {},
   "outputs": [],
   "source": [
    "#QUESTION 3\n",
    "df.fillna(0, inplace=True)"
   ]
  },
  {
   "cell_type": "code",
   "execution_count": 62,
   "id": "85a21bc4",
   "metadata": {},
   "outputs": [
    {
     "data": {
      "text/plain": [
       "[<matplotlib.lines.Line2D at 0x1ede91ead30>]"
      ]
     },
     "execution_count": 62,
     "metadata": {},
     "output_type": "execute_result"
    },
    {
     "data": {
      "image/png": "[encoded data removed]",
      "text/plain": [
       "<Figure size 432x288 with 1 Axes>"
      ]
     },
     "metadata": {
      "needs_background": "light"
     },
     "output_type": "display_data"
    }
   ],
   "source": [
    "#QUESTION 4\n",
    "# On represente l'age moyen en fonction de la classe du passager\n",
    "x = []\n",
    "y = []\n",
    "s1 = df[['Pclass', 'Age']]\n",
    "for i in s1['Pclass'].unique():\n",
    "    plt.scatter(i, s1[s1['Pclass']==i]['Age'].mean())\n",
    "    x.append(i)\n",
    "    y.append(s1[s1['Pclass']==i]['Age'].mean())\n",
    "plt.plot(x, y)"
   ]
  },
  {
   "cell_type": "code",
   "execution_count": 96,
   "id": "7836aba4",
   "metadata": {},
   "outputs": [
    {
     "data": {
      "text/plain": [
       "<BarContainer object of 89 artists>"
      ]
     },
     "execution_count": 96,
     "metadata": {},
     "output_type": "execute_result"
    },
    {
     "data": {
      "image/png": "[encoded data removed]",
      "text/plain": [
       "<Figure size 432x288 with 1 Axes>"
      ]
     },
     "metadata": {
      "needs_background": "light"
     },
     "output_type": "display_data"
    }
   ],
   "source": [
    "# Histogramme du nombre de survivant en fonction de l'âge de la personne\n",
    "x = []\n",
    "y = []\n",
    "s2 = df[['Survived', 'Age']]\n",
    "for i in df['Age'].unique():\n",
    "    x.append(i)\n",
    "    y.append(df[df['Age']==i]['Survived'].sum())\n",
    "plt.bar(x, y)"
   ]
  },
  {
   "cell_type": "code",
   "execution_count": 65,
   "id": "4bd058ce",
   "metadata": {},
   "outputs": [
    {
     "name": "stdout",
     "output_type": "stream",
     "text": [
      "[24.02794520547945, 28.7775, 40.91836734693877]\n"
     ]
    }
   ],
   "source": [
    "#TEST LORIANE\n",
    "xnew = df['Pclass'].unique()\n",
    "ynew=[]\n",
    "for i in xnew :\n",
    "    ligne = df[df['Pclass']==i]\n",
    "    age_i = ligne['Age'].mean()\n",
    "    ynew.append(age_i)\n",
    "\n",
    "print(ynew)"
   ]
  },
  {
   "cell_type": "code",
   "execution_count": 91,
   "id": "b69f102b",
   "metadata": {},
   "outputs": [
    {
     "name": "stdout",
     "output_type": "stream",
     "text": [
      "        Sex   Sexe\n",
      "0      male  Homme\n",
      "1    female  Femme\n",
      "2    female  Femme\n",
      "3    female  Femme\n",
      "4      male  Homme\n",
      "..      ...    ...\n",
      "886    male  Homme\n",
      "887  female  Femme\n",
      "888  female  Femme\n",
      "889    male  Homme\n",
      "890    male  Homme\n",
      "\n",
      "[891 rows x 2 columns]\n"
     ]
    }
   ],
   "source": [
    "#QUESTION 5\n",
    "df['Sexe'] = df['Sex'].replace('male', 'Homme').replace('female', 'Femme')\n",
    "print(df[['Sex', 'Sexe']])"
   ]
  },
  {
   "cell_type": "code",
   "execution_count": 89,
   "id": "b61a3fb5",
   "metadata": {},
   "outputs": [
    {
     "name": "stdout",
     "output_type": "stream",
     "text": [
      "Nombre de personnes ayant survecues : 342\n",
      "Nombre de personnes n'ayant pas survecues : 549\n",
      "Nombre de personnes au total : 891\n"
     ]
    }
   ],
   "source": [
    "#QUESTION 6\n",
    "print(\"Nombre de personnes ayant survecues :\",df['Survived'].sum())\n",
    "print(\"Nombre de personnes n'ayant pas survecues :\",df.shape[0]-df['Survived'].sum())\n",
    "print(\"Nombre de personnes au total :\",df.shape[0])"
   ]
  },
  {
   "cell_type": "code",
   "execution_count": 97,
   "id": "ffaeeb67",
   "metadata": {},
   "outputs": [
    {
     "data": {
      "text/plain": [
       "<BarContainer object of 3 artists>"
      ]
     },
     "execution_count": 97,
     "metadata": {},
     "output_type": "execute_result"
    },
    {
     "data": {
      "image/png": "[encoded data removed]",
      "text/plain": [
       "<Figure size 432x288 with 1 Axes>"
      ]
     },
     "metadata": {
      "needs_background": "light"
     },
     "output_type": "display_data"
    },
    {
     "data": {
      "image/png": "[encoded data removed]",
      "text/plain": [
       "<Figure size 432x288 with 1 Axes>"
      ]
     },
     "metadata": {
      "needs_background": "light"
     },
     "output_type": "display_data"
    }
   ],
   "source": [
    "#QUESTION 7\n",
    "# Histogramme du nombre de survivant en fonction de\n",
    "# l'âge de la personne\n",
    "plt.figure();\n",
    "x = []\n",
    "y = []\n",
    "s2 = df[['Survived', 'Age']]\n",
    "for i in df['Age'].unique():\n",
    "    x.append(i)\n",
    "    y.append(df[df['Age']==i]['Survived'].sum())\n",
    "plt.title(\"Histogramme du nombre de survivant en fonction de l'age\")\n",
    "plt.bar(x, y)\n",
    "\n",
    "# Histogramme du nombre de survivant en fonction\n",
    "# de la classe de voyage de la personne\n",
    "plt.figure();\n",
    "x = []\n",
    "y = []\n",
    "s3 = df[['Survived', 'Pclass']]\n",
    "for i in df['Pclass'].unique():\n",
    "    x.append(i)\n",
    "    y.append(df[df['Pclass']==i]['Survived'].sum())\n",
    "plt.title(\"Histogramme du nombre de survivant en fonction de la classe de voyage de la personne\")\n",
    "plt.bar(x, y)"
   ]
  },
  {
   "cell_type": "code",
   "execution_count": 98,
   "id": "704d47fd",
   "metadata": {},
   "outputs": [],
   "source": [
    "# Selon les graphes, les passagers de 1ere classe et de 24 ans\n",
    "# ont lee plus de chance de survivre"
   ]
  },
  {
   "cell_type": "code",
   "execution_count": null,
   "id": "af51eb41",
   "metadata": {},
   "outputs": [],
   "source": []
  }
 ],
 "metadata": {
  "kernelspec": {
   "display_name": "Python 3 (ipykernel)",
   "language": "python",
   "name": "python3"
  },
  "language_info": {
   "codemirror_mode": {
    "name": "ipython",
    "version": 3
   },
   "file_extension": ".py",
   "mimetype": "text/x-python",
   "name": "python",
   "nbconvert_exporter": "python",
   "pygments_lexer": "ipython3",
   "version": "3.8.10"
  }
 },
 "nbformat": 4,
 "nbformat_minor": 5
}
